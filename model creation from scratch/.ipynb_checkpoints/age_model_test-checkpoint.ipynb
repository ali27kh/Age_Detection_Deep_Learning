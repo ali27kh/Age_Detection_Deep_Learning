{
 "cells": [
  {
   "cell_type": "code",
   "execution_count": 1,
   "id": "baa8eb5e",
   "metadata": {},
   "outputs": [],
   "source": [
    "import numpy as np\n",
    "import tensorflow as tf\n",
    "from tensorflow.keras.preprocessing.image import load_img\n",
    "from PIL import Image"
   ]
  },
  {
   "cell_type": "code",
   "execution_count": 2,
   "id": "178dee1f",
   "metadata": {},
   "outputs": [],
   "source": [
    "model = tf.keras.models.load_model(\"model_age.keras\")"
   ]
  },
  {
   "cell_type": "code",
   "execution_count": 3,
   "id": "0702b390",
   "metadata": {},
   "outputs": [],
   "source": [
    "def preprocess_image(image_path):\n",
    "    img = load_img(image_path, color_mode=\"grayscale\")\n",
    "    img = img.resize((128, 128), Image.LANCZOS)\n",
    "    img = np.array(img) / 255.0\n",
    "    return img.reshape(1, 128, 128, 1)"
   ]
  },
  {
   "cell_type": "code",
   "execution_count": 4,
   "id": "4ebe11f7",
   "metadata": {},
   "outputs": [
    {
     "name": "stdout",
     "output_type": "stream",
     "text": [
      "1/1 [==============================] - 0s 136ms/step\n",
      "Âge prédit : 26 ans\n"
     ]
    }
   ],
   "source": [
    "image_test = preprocess_image(\"test.png\")\n",
    "predicted_age = round(model.predict(image_test)[0][0] * 100)\n",
    "\n",
    "print(f\"Âge prédit : {predicted_age} ans\")"
   ]
  },
  {
   "cell_type": "code",
   "execution_count": null,
   "id": "c8bc9694",
   "metadata": {},
   "outputs": [],
   "source": []
  }
 ],
 "metadata": {
  "kernelspec": {
   "display_name": "Python 3 (ipykernel)",
   "language": "python",
   "name": "python3"
  },
  "language_info": {
   "codemirror_mode": {
    "name": "ipython",
    "version": 3
   },
   "file_extension": ".py",
   "mimetype": "text/x-python",
   "name": "python",
   "nbconvert_exporter": "python",
   "pygments_lexer": "ipython3",
   "version": "3.8.8"
  }
 },
 "nbformat": 4,
 "nbformat_minor": 5
}
